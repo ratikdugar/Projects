{
 "cells": [
  {
   "cell_type": "raw",
   "metadata": {},
   "source": [
    "# Ratik Dugar\n",
    "Data Analyst Nanodegree\n",
    "Intro to Data Analysis\n",
    "Titanic Survival\n",
    "\n",
    "\n",
    "# Data Analysis Process\n",
    "\n",
    "Below is a legend to describe the dataset we are using. The dataset includes passenger information from 891 of the 2224 people on board the Titanic.\n",
    "\n",
    "## Data Dictionary\n",
    "\n",
    "Variable       Definition                                     Key\n",
    "survival       Survival                                       0 = No, 1 = Yes\n",
    "pclass         Ticket class                                   1 = 1st, 2 = 2nd, 3 = 3rd\n",
    "sex            Sex\n",
    "Age            Age in years                                   \n",
    "sibsp          # of siblings / spouses aboard the Titanic\n",
    "parch          # of parents / children aboard the Titanic\n",
    "ticket         Ticket number\n",
    "fare           Passenger fare\n",
    "cabin          Cabin number\n",
    "embarked       Port of Embarkation                            C = Cherbourg, Q = Queenstown, S = Southampton\n",
    "\n",
    "## Variable Notes\n",
    "pclass: A proxy for socio-economic status (SES)\n",
    "1st = Upper\n",
    "2nd = Middle\n",
    "3rd = Lower\n",
    "\n",
    "age: Age is fractional if less than 1. If the age is estimated, is it in the form of xx.5\n",
    "\n",
    "sibsp: The dataset defines family relations in this way...\n",
    "Sibling = brother, sister, stepbrother, stepsister\n",
    "Spouse = husband, wife (mistresses and fiancés were ignored)\n",
    "\n",
    "parch: The dataset defines family relations in this way...\n",
    "Parent = mother, father\n",
    "Child = daughter, son, stepdaughter, stepson\n",
    "Some children travelled only with a nanny, therefore parch=0 for them."
   ]
  },
  {
   "cell_type": "markdown",
   "metadata": {},
   "source": [
    "# Questions I want to answer \n",
    "### 1.Was age a factor in surviving the Titanic?\n",
    "### 2.Was gender a factor in surviving the Titanic?\n",
    "### 3.Was SES/location on board the ship a factor for survival?\n",
    "### 4.Were children more likely to survive?\n",
    "### 5.Did people with family members on board have better or worse chances of survival compared to people who were traveling alone?\n",
    "\n",
    "# Data Wrangling Phase\n",
    "### 1.Data Acquisition \n",
    "### 2.Data cleanup\n",
    "### 3.Checking for missing values"
   ]
  },
  {
   "cell_type": "markdown",
   "metadata": {},
   "source": [
    "#### 1.Data Acquisition-The code below will import important libraries I will be using through this project and acquire the csv file which contains the titanic data. The .head() allows me to print the first few lines from the the dataset I have just acquired. "
   ]
  },
  {
   "cell_type": "code",
   "execution_count": 57,
   "metadata": {},
   "outputs": [
    {
     "data": {
      "text/html": [
       "<div>\n",
       "<style>\n",
       "    .dataframe thead tr:only-child th {\n",
       "        text-align: right;\n",
       "    }\n",
       "\n",
       "    .dataframe thead th {\n",
       "        text-align: left;\n",
       "    }\n",
       "\n",
       "    .dataframe tbody tr th {\n",
       "        vertical-align: top;\n",
       "    }\n",
       "</style>\n",
       "<table border=\"1\" class=\"dataframe\">\n",
       "  <thead>\n",
       "    <tr style=\"text-align: right;\">\n",
       "      <th></th>\n",
       "      <th>PassengerId</th>\n",
       "      <th>Survived</th>\n",
       "      <th>Pclass</th>\n",
       "      <th>Name</th>\n",
       "      <th>Sex</th>\n",
       "      <th>Age</th>\n",
       "      <th>SibSp</th>\n",
       "      <th>Parch</th>\n",
       "      <th>Ticket</th>\n",
       "      <th>Fare</th>\n",
       "      <th>Cabin</th>\n",
       "      <th>Embarked</th>\n",
       "    </tr>\n",
       "  </thead>\n",
       "  <tbody>\n",
       "    <tr>\n",
       "      <th>0</th>\n",
       "      <td>1</td>\n",
       "      <td>0</td>\n",
       "      <td>3</td>\n",
       "      <td>Braund, Mr. Owen Harris</td>\n",
       "      <td>male</td>\n",
       "      <td>22.0</td>\n",
       "      <td>1</td>\n",
       "      <td>0</td>\n",
       "      <td>A/5 21171</td>\n",
       "      <td>7.2500</td>\n",
       "      <td>NaN</td>\n",
       "      <td>S</td>\n",
       "    </tr>\n",
       "    <tr>\n",
       "      <th>1</th>\n",
       "      <td>2</td>\n",
       "      <td>1</td>\n",
       "      <td>1</td>\n",
       "      <td>Cumings, Mrs. John Bradley (Florence Briggs Th...</td>\n",
       "      <td>female</td>\n",
       "      <td>38.0</td>\n",
       "      <td>1</td>\n",
       "      <td>0</td>\n",
       "      <td>PC 17599</td>\n",
       "      <td>71.2833</td>\n",
       "      <td>C85</td>\n",
       "      <td>C</td>\n",
       "    </tr>\n",
       "    <tr>\n",
       "      <th>2</th>\n",
       "      <td>3</td>\n",
       "      <td>1</td>\n",
       "      <td>3</td>\n",
       "      <td>Heikkinen, Miss. Laina</td>\n",
       "      <td>female</td>\n",
       "      <td>26.0</td>\n",
       "      <td>0</td>\n",
       "      <td>0</td>\n",
       "      <td>STON/O2. 3101282</td>\n",
       "      <td>7.9250</td>\n",
       "      <td>NaN</td>\n",
       "      <td>S</td>\n",
       "    </tr>\n",
       "    <tr>\n",
       "      <th>3</th>\n",
       "      <td>4</td>\n",
       "      <td>1</td>\n",
       "      <td>1</td>\n",
       "      <td>Futrelle, Mrs. Jacques Heath (Lily May Peel)</td>\n",
       "      <td>female</td>\n",
       "      <td>35.0</td>\n",
       "      <td>1</td>\n",
       "      <td>0</td>\n",
       "      <td>113803</td>\n",
       "      <td>53.1000</td>\n",
       "      <td>C123</td>\n",
       "      <td>S</td>\n",
       "    </tr>\n",
       "    <tr>\n",
       "      <th>4</th>\n",
       "      <td>5</td>\n",
       "      <td>0</td>\n",
       "      <td>3</td>\n",
       "      <td>Allen, Mr. William Henry</td>\n",
       "      <td>male</td>\n",
       "      <td>35.0</td>\n",
       "      <td>0</td>\n",
       "      <td>0</td>\n",
       "      <td>373450</td>\n",
       "      <td>8.0500</td>\n",
       "      <td>NaN</td>\n",
       "      <td>S</td>\n",
       "    </tr>\n",
       "  </tbody>\n",
       "</table>\n",
       "</div>"
      ],
      "text/plain": [
       "   PassengerId  Survived  Pclass  \\\n",
       "0            1         0       3   \n",
       "1            2         1       1   \n",
       "2            3         1       3   \n",
       "3            4         1       1   \n",
       "4            5         0       3   \n",
       "\n",
       "                                                Name     Sex   Age  SibSp  \\\n",
       "0                            Braund, Mr. Owen Harris    male  22.0      1   \n",
       "1  Cumings, Mrs. John Bradley (Florence Briggs Th...  female  38.0      1   \n",
       "2                             Heikkinen, Miss. Laina  female  26.0      0   \n",
       "3       Futrelle, Mrs. Jacques Heath (Lily May Peel)  female  35.0      1   \n",
       "4                           Allen, Mr. William Henry    male  35.0      0   \n",
       "\n",
       "   Parch            Ticket     Fare Cabin Embarked  \n",
       "0      0         A/5 21171   7.2500   NaN        S  \n",
       "1      0          PC 17599  71.2833   C85        C  \n",
       "2      0  STON/O2. 3101282   7.9250   NaN        S  \n",
       "3      0            113803  53.1000  C123        S  \n",
       "4      0            373450   8.0500   NaN        S  "
      ]
     },
     "execution_count": 57,
     "metadata": {},
     "output_type": "execute_result"
    }
   ],
   "source": [
    "%matplotlib inline\n",
    "import pandas as pd\n",
    "import seaborn as sns\n",
    "import matplotlib.pyplot as plt\n",
    "titanic_data = pd.read_csv('titanic-data.csv')\n",
    "titanic_data.head()"
   ]
  },
  {
   "cell_type": "markdown",
   "metadata": {},
   "source": [
    "#### 2.Data cleanup-The code below will drop all entries which have been duplicated in the dataset and are therefore, redundant. The drop_duplicates() functionality allows me to do that."
   ]
  },
  {
   "cell_type": "code",
   "execution_count": 58,
   "metadata": {},
   "outputs": [
    {
     "data": {
      "text/html": [
       "<div>\n",
       "<style>\n",
       "    .dataframe thead tr:only-child th {\n",
       "        text-align: right;\n",
       "    }\n",
       "\n",
       "    .dataframe thead th {\n",
       "        text-align: left;\n",
       "    }\n",
       "\n",
       "    .dataframe tbody tr th {\n",
       "        vertical-align: top;\n",
       "    }\n",
       "</style>\n",
       "<table border=\"1\" class=\"dataframe\">\n",
       "  <thead>\n",
       "    <tr style=\"text-align: right;\">\n",
       "      <th></th>\n",
       "      <th>PassengerId</th>\n",
       "      <th>Survived</th>\n",
       "      <th>Pclass</th>\n",
       "      <th>Name</th>\n",
       "      <th>Sex</th>\n",
       "      <th>Age</th>\n",
       "      <th>SibSp</th>\n",
       "      <th>Parch</th>\n",
       "      <th>Ticket</th>\n",
       "      <th>Fare</th>\n",
       "      <th>Cabin</th>\n",
       "      <th>Embarked</th>\n",
       "    </tr>\n",
       "  </thead>\n",
       "  <tbody>\n",
       "    <tr>\n",
       "      <th>0</th>\n",
       "      <td>1</td>\n",
       "      <td>0</td>\n",
       "      <td>3</td>\n",
       "      <td>Braund, Mr. Owen Harris</td>\n",
       "      <td>male</td>\n",
       "      <td>22.0</td>\n",
       "      <td>1</td>\n",
       "      <td>0</td>\n",
       "      <td>A/5 21171</td>\n",
       "      <td>7.2500</td>\n",
       "      <td>NaN</td>\n",
       "      <td>S</td>\n",
       "    </tr>\n",
       "    <tr>\n",
       "      <th>1</th>\n",
       "      <td>2</td>\n",
       "      <td>1</td>\n",
       "      <td>1</td>\n",
       "      <td>Cumings, Mrs. John Bradley (Florence Briggs Th...</td>\n",
       "      <td>female</td>\n",
       "      <td>38.0</td>\n",
       "      <td>1</td>\n",
       "      <td>0</td>\n",
       "      <td>PC 17599</td>\n",
       "      <td>71.2833</td>\n",
       "      <td>C85</td>\n",
       "      <td>C</td>\n",
       "    </tr>\n",
       "    <tr>\n",
       "      <th>2</th>\n",
       "      <td>3</td>\n",
       "      <td>1</td>\n",
       "      <td>3</td>\n",
       "      <td>Heikkinen, Miss. Laina</td>\n",
       "      <td>female</td>\n",
       "      <td>26.0</td>\n",
       "      <td>0</td>\n",
       "      <td>0</td>\n",
       "      <td>STON/O2. 3101282</td>\n",
       "      <td>7.9250</td>\n",
       "      <td>NaN</td>\n",
       "      <td>S</td>\n",
       "    </tr>\n",
       "    <tr>\n",
       "      <th>3</th>\n",
       "      <td>4</td>\n",
       "      <td>1</td>\n",
       "      <td>1</td>\n",
       "      <td>Futrelle, Mrs. Jacques Heath (Lily May Peel)</td>\n",
       "      <td>female</td>\n",
       "      <td>35.0</td>\n",
       "      <td>1</td>\n",
       "      <td>0</td>\n",
       "      <td>113803</td>\n",
       "      <td>53.1000</td>\n",
       "      <td>C123</td>\n",
       "      <td>S</td>\n",
       "    </tr>\n",
       "    <tr>\n",
       "      <th>4</th>\n",
       "      <td>5</td>\n",
       "      <td>0</td>\n",
       "      <td>3</td>\n",
       "      <td>Allen, Mr. William Henry</td>\n",
       "      <td>male</td>\n",
       "      <td>35.0</td>\n",
       "      <td>0</td>\n",
       "      <td>0</td>\n",
       "      <td>373450</td>\n",
       "      <td>8.0500</td>\n",
       "      <td>NaN</td>\n",
       "      <td>S</td>\n",
       "    </tr>\n",
       "  </tbody>\n",
       "</table>\n",
       "</div>"
      ],
      "text/plain": [
       "   PassengerId  Survived  Pclass  \\\n",
       "0            1         0       3   \n",
       "1            2         1       1   \n",
       "2            3         1       3   \n",
       "3            4         1       1   \n",
       "4            5         0       3   \n",
       "\n",
       "                                                Name     Sex   Age  SibSp  \\\n",
       "0                            Braund, Mr. Owen Harris    male  22.0      1   \n",
       "1  Cumings, Mrs. John Bradley (Florence Briggs Th...  female  38.0      1   \n",
       "2                             Heikkinen, Miss. Laina  female  26.0      0   \n",
       "3       Futrelle, Mrs. Jacques Heath (Lily May Peel)  female  35.0      1   \n",
       "4                           Allen, Mr. William Henry    male  35.0      0   \n",
       "\n",
       "   Parch            Ticket     Fare Cabin Embarked  \n",
       "0      0         A/5 21171   7.2500   NaN        S  \n",
       "1      0          PC 17599  71.2833   C85        C  \n",
       "2      0  STON/O2. 3101282   7.9250   NaN        S  \n",
       "3      0            113803  53.1000  C123        S  \n",
       "4      0            373450   8.0500   NaN        S  "
      ]
     },
     "execution_count": 58,
     "metadata": {},
     "output_type": "execute_result"
    }
   ],
   "source": [
    "#Data cleanup-remove duplicate entries\n",
    "titanic_data.drop_duplicates(subset=None, inplace=True)\n",
    "titanic_data.head()"
   ]
  },
  {
   "cell_type": "markdown",
   "metadata": {},
   "source": [
    "#### 2.Data cleanup-The dataset has lot of columns such as 'PassengerId','Name','Ticket','Fare','Cabin',Embarked' that I will not be using for any of my analyses and thus want to get rid of these unwanted columns from my dataset. This would make my data a lot more readable, compact and concise. The code below using the drop() functionality allows me to do that."
   ]
  },
  {
   "cell_type": "code",
   "execution_count": 59,
   "metadata": {},
   "outputs": [
    {
     "data": {
      "text/html": [
       "<div>\n",
       "<style>\n",
       "    .dataframe thead tr:only-child th {\n",
       "        text-align: right;\n",
       "    }\n",
       "\n",
       "    .dataframe thead th {\n",
       "        text-align: left;\n",
       "    }\n",
       "\n",
       "    .dataframe tbody tr th {\n",
       "        vertical-align: top;\n",
       "    }\n",
       "</style>\n",
       "<table border=\"1\" class=\"dataframe\">\n",
       "  <thead>\n",
       "    <tr style=\"text-align: right;\">\n",
       "      <th></th>\n",
       "      <th>Survived</th>\n",
       "      <th>Pclass</th>\n",
       "      <th>Sex</th>\n",
       "      <th>Age</th>\n",
       "      <th>SibSp</th>\n",
       "      <th>Parch</th>\n",
       "    </tr>\n",
       "  </thead>\n",
       "  <tbody>\n",
       "    <tr>\n",
       "      <th>0</th>\n",
       "      <td>0</td>\n",
       "      <td>3</td>\n",
       "      <td>male</td>\n",
       "      <td>22.0</td>\n",
       "      <td>1</td>\n",
       "      <td>0</td>\n",
       "    </tr>\n",
       "    <tr>\n",
       "      <th>1</th>\n",
       "      <td>1</td>\n",
       "      <td>1</td>\n",
       "      <td>female</td>\n",
       "      <td>38.0</td>\n",
       "      <td>1</td>\n",
       "      <td>0</td>\n",
       "    </tr>\n",
       "    <tr>\n",
       "      <th>2</th>\n",
       "      <td>1</td>\n",
       "      <td>3</td>\n",
       "      <td>female</td>\n",
       "      <td>26.0</td>\n",
       "      <td>0</td>\n",
       "      <td>0</td>\n",
       "    </tr>\n",
       "    <tr>\n",
       "      <th>3</th>\n",
       "      <td>1</td>\n",
       "      <td>1</td>\n",
       "      <td>female</td>\n",
       "      <td>35.0</td>\n",
       "      <td>1</td>\n",
       "      <td>0</td>\n",
       "    </tr>\n",
       "    <tr>\n",
       "      <th>4</th>\n",
       "      <td>0</td>\n",
       "      <td>3</td>\n",
       "      <td>male</td>\n",
       "      <td>35.0</td>\n",
       "      <td>0</td>\n",
       "      <td>0</td>\n",
       "    </tr>\n",
       "  </tbody>\n",
       "</table>\n",
       "</div>"
      ],
      "text/plain": [
       "   Survived  Pclass     Sex   Age  SibSp  Parch\n",
       "0         0       3    male  22.0      1      0\n",
       "1         1       1  female  38.0      1      0\n",
       "2         1       3  female  26.0      0      0\n",
       "3         1       1  female  35.0      1      0\n",
       "4         0       3    male  35.0      0      0"
      ]
     },
     "execution_count": 59,
     "metadata": {},
     "output_type": "execute_result"
    }
   ],
   "source": [
    "#Data cleanup-removing unnecessary or unwanted columns\n",
    "new_titanic = titanic_data.drop(['PassengerId','Name','Ticket','Fare','Cabin','Embarked'],axis=1)\n",
    "new_titanic.head()"
   ]
  },
  {
   "cell_type": "markdown",
   "metadata": {},
   "source": [
    "#### 3.Checking for any missing values-The code below uses the info() functionality that gives me a count of all non-null entries for each column. "
   ]
  },
  {
   "cell_type": "code",
   "execution_count": 60,
   "metadata": {},
   "outputs": [
    {
     "name": "stdout",
     "output_type": "stream",
     "text": [
      "<class 'pandas.core.frame.DataFrame'>\n",
      "Int64Index: 891 entries, 0 to 890\n",
      "Data columns (total 6 columns):\n",
      "Survived    891 non-null int64\n",
      "Pclass      891 non-null int64\n",
      "Sex         891 non-null object\n",
      "Age         714 non-null float64\n",
      "SibSp       891 non-null int64\n",
      "Parch       891 non-null int64\n",
      "dtypes: float64(1), int64(4), object(1)\n",
      "memory usage: 48.7+ KB\n"
     ]
    }
   ],
   "source": [
    "#checking for any missing values\n",
    "new_titanic.info()"
   ]
  },
  {
   "cell_type": "markdown",
   "metadata": {},
   "source": [
    "#### 714 out of 891 age entries are non-null which means 177 of them have to be missing values. These 177 NaN entries will be dropped from the dataset later on and consequently excluded from mean age calculations."
   ]
  },
  {
   "cell_type": "markdown",
   "metadata": {},
   "source": [
    "# Data Exploration  and Visualization Phase"
   ]
  },
  {
   "cell_type": "markdown",
   "metadata": {},
   "source": [
    "#### I use the .describe() option to get an overview of the data using descriptive statistics for each of the columns in the dataframe."
   ]
  },
  {
   "cell_type": "code",
   "execution_count": 61,
   "metadata": {},
   "outputs": [
    {
     "data": {
      "text/html": [
       "<div>\n",
       "<style>\n",
       "    .dataframe thead tr:only-child th {\n",
       "        text-align: right;\n",
       "    }\n",
       "\n",
       "    .dataframe thead th {\n",
       "        text-align: left;\n",
       "    }\n",
       "\n",
       "    .dataframe tbody tr th {\n",
       "        vertical-align: top;\n",
       "    }\n",
       "</style>\n",
       "<table border=\"1\" class=\"dataframe\">\n",
       "  <thead>\n",
       "    <tr style=\"text-align: right;\">\n",
       "      <th></th>\n",
       "      <th>Survived</th>\n",
       "      <th>Pclass</th>\n",
       "      <th>Age</th>\n",
       "      <th>SibSp</th>\n",
       "      <th>Parch</th>\n",
       "    </tr>\n",
       "  </thead>\n",
       "  <tbody>\n",
       "    <tr>\n",
       "      <th>count</th>\n",
       "      <td>891.000000</td>\n",
       "      <td>891.000000</td>\n",
       "      <td>714.000000</td>\n",
       "      <td>891.000000</td>\n",
       "      <td>891.000000</td>\n",
       "    </tr>\n",
       "    <tr>\n",
       "      <th>mean</th>\n",
       "      <td>0.383838</td>\n",
       "      <td>2.308642</td>\n",
       "      <td>29.699118</td>\n",
       "      <td>0.523008</td>\n",
       "      <td>0.381594</td>\n",
       "    </tr>\n",
       "    <tr>\n",
       "      <th>std</th>\n",
       "      <td>0.486592</td>\n",
       "      <td>0.836071</td>\n",
       "      <td>14.526497</td>\n",
       "      <td>1.102743</td>\n",
       "      <td>0.806057</td>\n",
       "    </tr>\n",
       "    <tr>\n",
       "      <th>min</th>\n",
       "      <td>0.000000</td>\n",
       "      <td>1.000000</td>\n",
       "      <td>0.420000</td>\n",
       "      <td>0.000000</td>\n",
       "      <td>0.000000</td>\n",
       "    </tr>\n",
       "    <tr>\n",
       "      <th>25%</th>\n",
       "      <td>0.000000</td>\n",
       "      <td>2.000000</td>\n",
       "      <td>20.125000</td>\n",
       "      <td>0.000000</td>\n",
       "      <td>0.000000</td>\n",
       "    </tr>\n",
       "    <tr>\n",
       "      <th>50%</th>\n",
       "      <td>0.000000</td>\n",
       "      <td>3.000000</td>\n",
       "      <td>28.000000</td>\n",
       "      <td>0.000000</td>\n",
       "      <td>0.000000</td>\n",
       "    </tr>\n",
       "    <tr>\n",
       "      <th>75%</th>\n",
       "      <td>1.000000</td>\n",
       "      <td>3.000000</td>\n",
       "      <td>38.000000</td>\n",
       "      <td>1.000000</td>\n",
       "      <td>0.000000</td>\n",
       "    </tr>\n",
       "    <tr>\n",
       "      <th>max</th>\n",
       "      <td>1.000000</td>\n",
       "      <td>3.000000</td>\n",
       "      <td>80.000000</td>\n",
       "      <td>8.000000</td>\n",
       "      <td>6.000000</td>\n",
       "    </tr>\n",
       "  </tbody>\n",
       "</table>\n",
       "</div>"
      ],
      "text/plain": [
       "         Survived      Pclass         Age       SibSp       Parch\n",
       "count  891.000000  891.000000  714.000000  891.000000  891.000000\n",
       "mean     0.383838    2.308642   29.699118    0.523008    0.381594\n",
       "std      0.486592    0.836071   14.526497    1.102743    0.806057\n",
       "min      0.000000    1.000000    0.420000    0.000000    0.000000\n",
       "25%      0.000000    2.000000   20.125000    0.000000    0.000000\n",
       "50%      0.000000    3.000000   28.000000    0.000000    0.000000\n",
       "75%      1.000000    3.000000   38.000000    1.000000    0.000000\n",
       "max      1.000000    3.000000   80.000000    8.000000    6.000000"
      ]
     },
     "execution_count": 61,
     "metadata": {},
     "output_type": "execute_result"
    }
   ],
   "source": [
    "#Overview of the data in the dataframe using descriptive statistics for each of the columns\n",
    "new_titanic.describe()"
   ]
  },
  {
   "cell_type": "markdown",
   "metadata": {},
   "source": [
    "#### From the above output, we see that the mean age for all passengers was 29.7 years and that 50% of all passengers were between 0 and 28 years old. 75% of all passengers were 38 years or younger. We look at the age distribution a little more in detail below."
   ]
  },
  {
   "cell_type": "markdown",
   "metadata": {},
   "source": [
    "### Age Based Analysis\n",
    "#### Here, we try and answer our first question and see if and how age affected survival on the Titanic."
   ]
  },
  {
   "cell_type": "markdown",
   "metadata": {},
   "source": [
    "#### The following code prints out a histogram plot showing the distribution of passenger ages. The Y axis of the graph has the frequency or count while the x-axis has the age intervals/bins. "
   ]
  },
  {
   "cell_type": "code",
   "execution_count": 62,
   "metadata": {},
   "outputs": [
    {
     "name": "stdout",
     "output_type": "stream",
     "text": [
      "most passengers are between 18 and 35 years old and the ages look like they are normally distributed.\n"
     ]
    },
    {
     "data": {
      "image/png": "[encoded data removed]",
      "text/plain": [
       "<matplotlib.figure.Figure at 0xe556da0>"
      ]
     },
     "metadata": {},
     "output_type": "display_data"
    }
   ],
   "source": [
    "new_titanic['Age'].plot.hist(title=\"Distribution of Passenger Age\", bins=range(0, 80, 1)).set_xlabel(\"Age\")\n",
    "print \"most passengers are between 18 and 35 years old and the ages look like they are normally distributed.\""
   ]
  },
  {
   "cell_type": "markdown",
   "metadata": {},
   "source": [
    "#### The code below uses the dropna() functionality to drop all passenger entries that have missing ages. This makes our dataset cleaner and more reliable when performing age based mean calculations. The code then groups the dataset by the 'Survived' variable using the groupby() functionality. This allows us to print a histogram plot showing the age distribution of Non-Survivors in comparision to that of the survivors. The x-axis represents the age intervals while the y-axis has the frequency."
   ]
  },
  {
   "cell_type": "code",
   "execution_count": 63,
   "metadata": {},
   "outputs": [
    {
     "name": "stdout",
     "output_type": "stream",
     "text": [
      "From the graph above and below, we can see that all passengers between 0 and 1 survived while most passengers above 63 did not. \n"
     ]
    },
    {
     "data": {
      "image/png": "[encoded data removed]",
      "text/plain": [
       "<matplotlib.figure.Figure at 0xcd61320>"
      ]
     },
     "metadata": {},
     "output_type": "display_data"
    }
   ],
   "source": [
    "titanic_age = new_titanic.dropna()#Dropping passenger information for all those missing ages.\n",
    "grouped_by_survival=titanic_age.groupby(['Survived'],as_index=False)\n",
    "grouped_by_survival['Age'].plot.hist(title=\"Distribution of Age for Non-Survivors vs Survivors\", bins=range(0, 80, 1),alpha=0.75)\n",
    "plt.xlabel('Age')\n",
    "plt.legend([\" Non Survivors\",\"Survivors\"])\n",
    "\n",
    "print \"From the graph above and below, we can see that all passengers between 0 and 1 survived while most passengers above 63 did not. \""
   ]
  },
  {
   "cell_type": "markdown",
   "metadata": {},
   "source": [
    "#### From the plot above we can see that the age distribution of the survivors is very similar to the age distribution of the non-survivors and age distribution of the passengers overall. We can also see that all passengers between 0 and 1 years of age survived. We also notice that most passengers above 63 years of age had a tough time surviving although there weren't a lot of passengers above that age.  "
   ]
  },
  {
   "cell_type": "markdown",
   "metadata": {},
   "source": [
    "#### The code below uses the dataframe, grouped by survival, we created above and then finds the mean age of both the groups. We then print out a barplot comparing mean age of all survivors to that of the non-survivors. "
   ]
  },
  {
   "cell_type": "code",
   "execution_count": 64,
   "metadata": {},
   "outputs": [
    {
     "name": "stdout",
     "output_type": "stream",
     "text": [
      "   Survived        Age\n",
      "0         0  30.626179\n",
      "1         1  28.343690\n"
     ]
    },
    {
     "data": {
      "text/plain": [
       "<matplotlib.text.Text at 0xea86860>"
      ]
     },
     "execution_count": 64,
     "metadata": {},
     "output_type": "execute_result"
    },
    {
     "data": {
      "image/png": "[encoded data removed]",
      "text/plain": [
       "<matplotlib.figure.Figure at 0xf664b70>"
      ]
     },
     "metadata": {},
     "output_type": "display_data"
    }
   ],
   "source": [
    "titanic_mean_age = grouped_by_survival['Age'].mean()\n",
    "print titanic_mean_age\n",
    "g1 = sns.factorplot(x='Survived',y='Age',data=titanic_mean_age,kind='bar')\n",
    "g1.set_xticklabels([\"No\",\"Yes\"])\n",
    "plt.title(\"Mean age of non-survivors vs mean age of survivors\")"
   ]
  },
  {
   "cell_type": "markdown",
   "metadata": {},
   "source": [
    "#### The mean age for survivors is slightly lower than that of the non-survivors but apart from that there is not much evidence to support that age was a big factor for survival. The age distribution for both groups are almost identical and even similar to the general age distribution of the passengers."
   ]
  },
  {
   "cell_type": "markdown",
   "metadata": {},
   "source": [
    "### Sex based Analysis\n",
    "#### Here, we try and answer our 2nd question and see if gender was a factor in survival."
   ]
  },
  {
   "cell_type": "markdown",
   "metadata": {},
   "source": [
    "#### We start off our gender based analysis by finding out the count of both male and female passengers. In the code below we divide the data into 2 groups based on sex and then use the count() functionality. We compare this visually by using a bar plot. "
   ]
  },
  {
   "cell_type": "code",
   "execution_count": 65,
   "metadata": {},
   "outputs": [
    {
     "name": "stdout",
     "output_type": "stream",
     "text": [
      "Number of male passengers is 577\n",
      "Number of female passengers is 314\n"
     ]
    },
    {
     "data": {
      "text/plain": [
       "<matplotlib.text.Text at 0xe6fdcc0>"
      ]
     },
     "execution_count": 65,
     "metadata": {},
     "output_type": "execute_result"
    },
    {
     "data": {
      "image/png": "[encoded data removed]",
      "text/plain": [
       "<matplotlib.figure.Figure at 0xbc41400>"
      ]
     },
     "metadata": {},
     "output_type": "display_data"
    }
   ],
   "source": [
    "#Gender Based Analysis\n",
    "male_passengers=new_titanic[new_titanic['Sex']=='male']\n",
    "female_passengers=new_titanic[new_titanic['Sex']=='female']\n",
    "num_males= male_passengers['Sex'].count()\n",
    "num_females= female_passengers['Sex'].count()\n",
    "print (\"Number of male passengers is {}\".format(num_males))\n",
    "print (\"Number of female passengers is {}\".format(num_females))\n",
    "graph_passengers=sns.factorplot('Sex', data=new_titanic, kind='count')\n",
    "graph_passengers.set_ylabels(\"Passenger count\")\n",
    "plt.title(\"Number of male passengers vs female passengers on board\")"
   ]
  },
  {
   "cell_type": "markdown",
   "metadata": {},
   "source": [
    "#### The code below uses the drop() functionality again to reduce the dataset into columns we only need for this part of the analysis. I drop the 'SibSp','Parch' and the 'Age' columns. I then use the groupby() functionality to group the data by the variables 'Pclass','Survived' and 'Sex'. This creates a dataframe that gives me a count of all passengers seaparated into the different classes, grouped by survival and then sub-divided into male or female.'"
   ]
  },
  {
   "cell_type": "code",
   "execution_count": 66,
   "metadata": {},
   "outputs": [
    {
     "name": "stdout",
     "output_type": "stream",
     "text": [
      "Pclass  Survived  Sex   \n",
      "1       0         female      3\n",
      "                  male       77\n",
      "        1         female     91\n",
      "                  male       45\n",
      "2       0         female      6\n",
      "                  male       91\n",
      "        1         female     70\n",
      "                  male       17\n",
      "3       0         female     72\n",
      "                  male      300\n",
      "        1         female     72\n",
      "                  male       47\n",
      "dtype: int64\n"
     ]
    }
   ],
   "source": [
    "titanic_sex=new_titanic.drop(['SibSp','Parch','Age'],axis=1)\n",
    "grouped_by_css = titanic_sex.groupby(['Pclass','Survived','Sex']).size()\n",
    "print grouped_by_css"
   ]
  },
  {
   "cell_type": "markdown",
   "metadata": {},
   "source": [
    "#### In the code below we make 2 separate groups from the data, one with survivors and one with non-survivors. Then, we find out how many of the survivors were male and female using the len() functionality. After we have these counts, we calculate the survival percentage for both the groups and graph the survival rates.  "
   ]
  },
  {
   "cell_type": "code",
   "execution_count": 67,
   "metadata": {},
   "outputs": [
    {
     "name": "stdout",
     "output_type": "stream",
     "text": [
      "Number of male passengers who survived is 109\n",
      "Number of female passengers who survived is 233\n",
      "#Percentage of male passengers who survived was 18.8908145581 while the percentage of female passengers who survived was 74.2038216561\n"
     ]
    },
    {
     "data": {
      "text/plain": [
       "<matplotlib.text.Text at 0xe1ef5c0>"
      ]
     },
     "execution_count": 67,
     "metadata": {},
     "output_type": "execute_result"
    },
    {
     "data": {
      "image/png": "[encoded data removed]",
      "text/plain": [
       "<matplotlib.figure.Figure at 0xe7d0470>"
      ]
     },
     "metadata": {},
     "output_type": "display_data"
    }
   ],
   "source": [
    "survived=new_titanic[new_titanic['Survived']==1]\n",
    "didnt_survive=new_titanic[new_titanic['Survived']==0]\n",
    "male_survivors = len(survived[survived['Sex']=='male'])\n",
    "female_survivors = len(survived[survived['Sex']=='female'])\n",
    "print \"Number of male passengers who survived is {}\".format(male_survivors)\n",
    "print \"Number of female passengers who survived is {}\".format(female_survivors)\n",
    "male_surv_perc = float(male_survivors*100.00/num_males)\n",
    "female_surv_perc  = float(female_survivors*100.00/num_females)\n",
    "print \"#Percentage of male passengers who survived was {} while the percentage of female passengers who survived was {}\".format(male_surv_perc,female_surv_perc)\n",
    "graph=sns.factorplot(\"Sex\",\"Survived\",data=new_titanic)\n",
    "graph.set_axis_labels(\"Sex\",\"Survival Rate\")\n",
    "plt.title(\"Survival Rates of male passengers vs female passengers\")"
   ]
  },
  {
   "cell_type": "markdown",
   "metadata": {},
   "source": [
    "#### From the above results, we see a stark difference in the survival rates of male and female passengers. Women were about 4 times as likely as men to survive and therefore, we can say that gender was a factor for survival and it might be true that women were given preference on the lifeboats."
   ]
  },
  {
   "cell_type": "markdown",
   "metadata": {},
   "source": [
    "### Class based Analysis\n",
    "#### Here we try and see if Social economic status(class) or location(deck) on board the ship played a role in survival."
   ]
  },
  {
   "cell_type": "markdown",
   "metadata": {},
   "source": [
    "#### In the code below, we first plot the passenger counts grouped by sex,survival and class. We then define a function that calculates the survival rate for a particular class. We call this function for each of the 3 classes-1st or the Upper, 2nd or the middle, and 3rd or the lower, and finally plot the survival rates from each class using a point graph. "
   ]
  },
  {
   "cell_type": "code",
   "execution_count": 68,
   "metadata": {},
   "outputs": [
    {
     "name": "stdout",
     "output_type": "stream",
     "text": [
      "Proportion of class 1 passengers that survived is 0.62962962963\n",
      "Proportion of class 2 passengers that survived is 0.472826086957\n",
      "Proportion of class 3 passengers that survived is 0.242362525458\n"
     ]
    },
    {
     "data": {
      "text/plain": [
       "<matplotlib.text.Text at 0xe8d1fd0>"
      ]
     },
     "execution_count": 68,
     "metadata": {},
     "output_type": "execute_result"
    },
    {
     "data": {
      "image/png": "[encoded data removed]",
      "text/plain": [
       "<matplotlib.figure.Figure at 0xe42a4a8>"
      ]
     },
     "metadata": {},
     "output_type": "display_data"
    },
    {
     "data": {
      "image/png": "[encoded data removed]",
      "text/plain": [
       "<matplotlib.figure.Figure at 0xf6767b8>"
      ]
     },
     "metadata": {},
     "output_type": "display_data"
    }
   ],
   "source": [
    "# Graph - Actual count of passengers by survival, group and sex\n",
    "g2 = sns.factorplot('Survived', col='Sex', hue='Pclass', data=new_titanic, kind='count', size=6, aspect=.7)\n",
    "g2.set_xticklabels([\"No\",\"Yes\"])\n",
    "g2.set_axis_labels(\"Survived\",\"Passenger Count\")\n",
    "def find_prop(data,classno):\n",
    "    \"\"\"\n",
    "    Returns the survival rate as a float for each Class(1,2 and 3 in this case) in the dataset.\n",
    "    \"\"\"\n",
    "    tot_in_class = data[data['Pclass']==classno]\n",
    "    surv_in_class  = tot_in_class[tot_in_class['Survived']==1]\n",
    "    tot_no = (tot_in_class.count(numeric_only=True)['Pclass']).astype(float)\n",
    "    surv_no = (surv_in_class.count(numeric_only=True)['Pclass']).astype(float)\n",
    "    return surv_no/tot_no\n",
    "\n",
    "print (\"Proportion of class 1 passengers that survived is {}\".format(find_prop(new_titanic,1)))\n",
    "print (\"Proportion of class 2 passengers that survived is {}\".format(find_prop(new_titanic,2)))\n",
    "print (\"Proportion of class 3 passengers that survived is {}\".format(find_prop(new_titanic,3)))\n",
    "\n",
    "#graphing overall survival rates from each class\n",
    "sns.factorplot(\"Pclass\",\"Survived\",order=[1,2,3],data=new_titanic)\n",
    "plt.title(\"Survival rate of passengers from each class\")"
   ]
  },
  {
   "cell_type": "markdown",
   "metadata": {},
   "source": [
    "#### From the above findings, we can say that class did play as a factor in survival. Passengers in class 1 had the best chance of survival of 0.63, followed by class 2 with 0.47 and finally class 3 with 0.24.People in class 2 were about 2 times as likely as people in class 3 to survive. People in class 1 were about 2.5 times as likely as people in class 3 to survive.Class 1 was the top deck on the ship, class 2 being the middle deck and finally class 3 being the bottom deck. I feel the location played a big role in survival as the lifeboats were easily accessible for passengers on the top level while the bottom deck(class 3) was the first to go under water and hence made survival challenging. The passengers' socio-economic status was indirectly responsible for their survival. Class 1 tickets were the most expensive, followed by class 2 and 3. In hindsight, these classes were also the safest in the same order.  "
   ]
  },
  {
   "cell_type": "markdown",
   "metadata": {},
   "source": [
    "### Children Survival vs the rest\n",
    "#### Here we try and answer our 4th question and find out if children were more likely to survive than men or women."
   ]
  },
  {
   "cell_type": "markdown",
   "metadata": {},
   "source": [
    "#### First of all, we define children to be less than 16 years old. This is because the 1908 Children's Act in the UK allowed people 16 or above to have legal custody of other children and anyone 16 or above could be punished for negligence of a child. This was also the age of consent and the age you could bequeath personal property,etc. In the code below, we group all passengers below 16 and then within that group, find everyone who has survived. This allows us to calulate the survival rate amongst children. "
   ]
  },
  {
   "cell_type": "code",
   "execution_count": 69,
   "metadata": {},
   "outputs": [
    {
     "name": "stdout",
     "output_type": "stream",
     "text": [
      "Number of passengers who can be defined as children:83\n",
      "Number of children who survived:49\n",
      "Percentage of children that survived the Titanic:59.0361445783\n"
     ]
    }
   ],
   "source": [
    "#Defining children as everyone below 16 years of age.\n",
    "titanic_children = titanic_age[titanic_age['Age']<16]\n",
    "children_surv = titanic_children[titanic_children['Survived']==1]\n",
    "print \"Number of passengers who can be defined as children:{}\".format(len(titanic_children))\n",
    "print \"Number of children who survived:{}\".format(len(children_surv))\n",
    "children_surv_perc = float((len(children_surv)*100.00)/float(len(titanic_children)))\n",
    "print \"Percentage of children that survived the Titanic:{}\".format(children_surv_perc)"
   ]
  },
  {
   "cell_type": "markdown",
   "metadata": {
    "collapsed": true
   },
   "source": [
    "#### In accordance with our definition of a child, we find that 83 passengers from the dataset could be classfied as children, 49 of whom survived, giving us a survival rate of 59%. It is important to note here that if I had declared children differently, I would have yielded different results."
   ]
  },
  {
   "cell_type": "markdown",
   "metadata": {},
   "source": [
    "#### In the code below we define a func age_sex() that returns whether a passenger was a 'Child','Male' or 'Female'. Using the apply() functionality, we create a column that stores the value 'age_sex()' returns, and finally use a barplot to show survival rates amongst the 3 groups. "
   ]
  },
  {
   "cell_type": "code",
   "execution_count": 70,
   "metadata": {},
   "outputs": [
    {
     "data": {
      "image/png": "[encoded data removed]",
      "text/plain": [
       "<matplotlib.figure.Figure at 0xe3c61d0>"
      ]
     },
     "metadata": {},
     "output_type": "display_data"
    }
   ],
   "source": [
    "def age_sex(obs):\n",
    "    \"\"\"\n",
    "    For all passengers younger than 16, returns \"child\".\n",
    "    For all other passengers, returns `Sex` value.\n",
    "    \"\"\"\n",
    "    if obs['Age'] < 16:\n",
    "        return 'child'\n",
    "    else:\n",
    "        return obs['Sex']\n",
    "\n",
    "titanic_data['AgeSex'] = titanic_data.apply(age_sex, axis=1)\n",
    "sns.barplot(data=titanic_data, x='AgeSex', y='Survived');\n",
    "plt.title(\"Survival rate according to age/sex status\")\n",
    "plt.ylabel(\"survival rate\");"
   ]
  },
  {
   "cell_type": "markdown",
   "metadata": {},
   "source": [
    "#### From the above results, we can say that children had a higher rate of survival than men but a lower rate of survival than women. More specifically, children had a survival rate a little more than about 3.5 times that of men. On the other hand, women were about 4.5 times as likely to survive than men. We can assume that women and children were given priority on the lifeboats. It is interesting to note that the survival rate of about 19% for male passengers that we calculated above seems to have gone down even lower when we exclude the male children from that group. "
   ]
  },
  {
   "cell_type": "markdown",
   "metadata": {},
   "source": [
    "### Survival Rates between people traveling alone vs people traveling along with family members\n",
    "#### Here we try and answer our last question comparing passengers with family members on board to passengers who were travelling alone."
   ]
  },
  {
   "cell_type": "markdown",
   "metadata": {},
   "source": [
    "#### The code below adds the 'Parch' and 'SibSp' column values to find the number of family members the passenger is traveling with, declared as 'family_members', and using that we come up with 2 groups. One group has 0 family members while the other one has at least 1. Using the len() functionality, we then find the total number of passengers within each group and visually represent this using a barplot. "
   ]
  },
  {
   "cell_type": "code",
   "execution_count": 71,
   "metadata": {},
   "outputs": [
    {
     "name": "stdout",
     "output_type": "stream",
     "text": [
      "Number of passengers traveling with atleast 1 family member:354\n",
      "Number of passengers traveling alone:537\n"
     ]
    },
    {
     "data": {
      "text/plain": [
       "<matplotlib.text.Text at 0xbcdfcf8>"
      ]
     },
     "execution_count": 71,
     "metadata": {},
     "output_type": "execute_result"
    },
    {
     "data": {
      "image/png": "[encoded data removed]",
      "text/plain": [
       "<matplotlib.figure.Figure at 0xbbf7e48>"
      ]
     },
     "metadata": {},
     "output_type": "display_data"
    }
   ],
   "source": [
    "#Finding survival rates between people traveling alone vs people traveling along with family members\n",
    "with_family = 0\n",
    "alone = 0\n",
    "new_titanic['family_members']=new_titanic['Parch']+new_titanic['SibSp']\n",
    "with_family = new_titanic[new_titanic['family_members']!=0]\n",
    "alone = new_titanic[new_titanic['family_members']==0]\n",
    "print \"Number of passengers traveling with atleast 1 family member:{}\".format(len(with_family))\n",
    "print \"Number of passengers traveling alone:{}\".format(len(alone))\n",
    "new_titanic['family_members'].loc[new_titanic['family_members'] > 0]='With Family'\n",
    "new_titanic['family_members'].loc[new_titanic['family_members']==0]='Alone'\n",
    "gra = sns.factorplot(x=\"family_members\",data=new_titanic,kind=\"count\")\n",
    "gra.set_axis_labels(\"Grouped Passengers\",\"Passenger count\")\n",
    "plt.title(\"Number of passengers traveling alongside family members vs traveling alone\")"
   ]
  },
  {
   "cell_type": "markdown",
   "metadata": {},
   "source": [
    "#### From the output above, we see that there are 537 passengers traveling alone while 354 passengers are traveling with some sort of family."
   ]
  },
  {
   "cell_type": "markdown",
   "metadata": {},
   "source": [
    "#### I created a dataframe below using the groupby() functionality and the variables 'Survived' and \"family_members\" declared above.Once I have the counts for each of the 4 possibilities-'with_family and survived', 'with family and did not survive', 'alone and survived', and 'alone and did not survive', I find the survival rate for the 'Alone' and 'With_Family' groups. I use a point survival rate plot to show the same."
   ]
  },
  {
   "cell_type": "code",
   "execution_count": 72,
   "metadata": {
    "scrolled": true
   },
   "outputs": [
    {
     "name": "stdout",
     "output_type": "stream",
     "text": [
      "family_members  Survived\n",
      "Alone           0           374\n",
      "                1           163\n",
      "With Family     0           175\n",
      "                1           179\n",
      "dtype: int64\n",
      "Survival rate of passengers traveling alone:0.303538175047\n",
      "Survival rate of passengers with family:0.505649717514\n"
     ]
    },
    {
     "data": {
      "text/plain": [
       "<matplotlib.text.Text at 0xbc17748>"
      ]
     },
     "execution_count": 72,
     "metadata": {},
     "output_type": "execute_result"
    },
    {
     "data": {
      "image/png": "[encoded data removed]",
      "text/plain": [
       "<matplotlib.figure.Figure at 0xd56d2e8>"
      ]
     },
     "metadata": {},
     "output_type": "display_data"
    }
   ],
   "source": [
    "family_group=new_titanic.groupby([\"family_members\",\"Survived\"]).size()\n",
    "print family_group\n",
    "traveling_alone = new_titanic[new_titanic['family_members']=='Alone']\n",
    "traveling_family = new_titanic[new_titanic['family_members']=='With Family']\n",
    "surv_alone = traveling_alone[traveling_alone['Survived']==1]\n",
    "surv_family = traveling_family[traveling_family['Survived']==1]\n",
    "alone_rate = float(surv_alone['family_members'].count())/float(traveling_alone['family_members'].count())\n",
    "family_rate = float(surv_family['family_members'].count())/float(traveling_family['family_members'].count())\n",
    "print \"Survival rate of passengers traveling alone:{}\".format(alone_rate)\n",
    "print \"Survival rate of passengers with family:{}\".format(family_rate)\n",
    "grap=sns.factorplot(\"family_members\",\"Survived\",data=new_titanic)\n",
    "grap.set_axis_labels(\"Passenger Group\",\"Survival Rate\")\n",
    "plt.title(\"Survival Rate of passengers traveling with family vs passengers traveling alone\")"
   ]
  },
  {
   "cell_type": "markdown",
   "metadata": {},
   "source": [
    "#### From the above analysis results, it appears that passengers who traveled with atleast 1 family member had better survival rates of about 50% than passengers who traveled alone who had about 30% chances of survival . This data might be affected because a lot of male passengers traveled alone and as male passengers had a low survival rate themselves, that could be confounding factor in this \"Alone\" group's survival rate as well."
   ]
  },
  {
   "cell_type": "markdown",
   "metadata": {},
   "source": [
    "# Conclusion\n",
    "\n",
    "### From our preliminary analysis, we can tentatively say that sex was a factor for survival while age was not. Socio-economic status (SES) did seem to correlate with survival rates as well. Upper class passengers had the highest survival chances while lower class passengers had the worst. SES was responsible for which class tickets the passengers could afford but I think that location is a more direct explanation for the survival differences among the different classes. The 1st, or upper class, location is the upper deck, which was obviously the last to go under water and one that could easily access lifeboats. The 3rd/lower class location is the lowest deck and the first deck to go under water and thus, gave the passengers the least time to make it out and survive. I could have used cabin variable to find more specific location based analyses but chose not to do this because the cabin variable had lot of missing entries. \n",
    "\n",
    "### Children also had higher survival rates than adult men but lower than that of women. A possible explanation for that was the prioritization of women and children on the lifeboats. Our data analysis also showed that passengers who were traveling with at least 1 family member had better chances of survival compared to those who were alone. A lot of male passengers traveled alone; as we found out earlier, male passengers had really low rates of survival. This could be a confounding factor behind the \"alone\" group having lower survival rates than the \"with family\" group.\n",
    "\n",
    "### Age didn't play a big factor in survival but 177 passengers were missing their ages and had to be excluded from the analysis. So this could change if we had all of the data. Apart from that, the dataset we are working with had infomation from only 891 passengers from a total of 2224 people on board the Titanic. If we had all of that information, some of these analyses could definitely lead to different results.  None of the analyses we did is enough to establish causation so all our inferences are tentative and some of these could possibly change after more in-depth analyses. We could perform significance tests using null and alternative hypotheses to find conclusions at a pre-set confidence level. This wouldn't allow us to be 100% sure or definitive in our conclusions but we could be 90% or 95% or 99% confident at finding statistically significant results."
   ]
  }
 ],
 "metadata": {
  "anaconda-cloud": {},
  "kernelspec": {
   "display_name": "Python [default]",
   "language": "python",
   "name": "python2"
  },
  "language_info": {
   "codemirror_mode": {
    "name": "ipython",
    "version": 2
   },
   "file_extension": ".py",
   "mimetype": "text/x-python",
   "name": "python",
   "nbconvert_exporter": "python",
   "pygments_lexer": "ipython2",
   "version": "2.7.13"
  }
 },
 "nbformat": 4,
 "nbformat_minor": 2
}
